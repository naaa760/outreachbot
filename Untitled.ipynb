{
 "cells": [
  {
   "cell_type": "code",
   "execution_count": 1,
   "id": "cefa6a71-888d-46bd-aa52-15e92fef2ae4",
   "metadata": {},
   "outputs": [],
   "source": [
    "from langchain_groq import ChatGroq"
   ]
  },
  {
   "cell_type": "code",
   "execution_count": 3,
   "id": "7704d747-36ec-46b3-a458-2b833434e669",
   "metadata": {},
   "outputs": [
    {
     "name": "stdout",
     "output_type": "stream",
     "text": [
      "The first person to land on the moon was Neil Armstrong. He stepped out of the lunar module Eagle and onto the moon's surface on July 20, 1969, during the Apollo 11 mission. Armstrong famously declared, \"That's one small step for man, one giant leap for mankind,\" as he became the first human to set foot on the moon.\n"
     ]
    }
   ],
   "source": [
    "llm = ChatGroq(\n",
    "    temperature=0, \n",
    "    groq_api_key='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', \n",
    "    model_name=\"llama-3.1-70b-versatile\"\n",
    ")\n",
    "response = llm.invoke(\"The first person to land on moon was ...\")\n",
    "print(response.content)"
   ]
  },
  {
   "cell_type": "code",
   "execution_count": 18,
   "id": "03c85417-01e0-4478-8283-08be10f75ebb",
   "metadata": {},
   "outputs": [
    {
     "name": "stderr",
     "output_type": "stream",
     "text": [
      "USER_AGENT environment variable not set, consider setting it to identify your requests.\n"
     ]
    },
    {
     "name": "stdout",
     "output_type": "stream",
     "text": [
      "Nike Careers Home\n",
      "\n",
      "Section 1: Move the World. Welcome to Nike Careers.Search JobsSkip navigationSearch JobsNIKE, INC. JOBSContract JobsJoin The Talent CommunityLife @ NikeOverviewBenefitsBrandsOverviewJordanConverseTeamsOverviewAdministrative SupportAdvanced InnovationAir Manufacturing InnovationAviationCommunicationsCustomer ServiceDesignDigitalFacilitiesFinance & AccountingGovernment & Public AffairsHuman ResourcesInsights & AnalyticsLegalManufacturing & EngineeringMarketingMerchandisingPlanningPrivacyProcurementProduct Creation, Development & ManagementRetail CorporateRetail StoresSalesSocial & Community ImpactSports MarketingStrategic PlanningSupply Chain, Distribution & LogisticsSustainabilityTechnologyLocationsOverviewNike WHQNike New York HQEHQ: Hilversum, The NetherlandsELC: Laakdal, BelgiumGreater China HQDiversity, Equity & InclusionOverviewMilitary InclusionDisability InclusionIndigenous InclusionInternshipsMove the WorldWelcome to Nike CareersSearch JobsScrollSearch JobsFind Your FitExplore the story behind the swooshScrollWE USE THE POWER OF SPORT TO MOVE THE WORLDAt NIKE, Inc., we see a world where everybody is an athlete—united in the joy of movement. Driven by our passion for sport and our instinct for innovation, we aim to elevate human potential. Whether our job is designing the ultimate sneaker or coding a revolutionary app, we’re united by the same mission: to bring inspiration and innovation to every athlete in the world. That means you.  Because, as Bill Bowerman—Nike’s co-founder and legendary coach—once said, “If you have a body, you are an athlete.” Every day, we are demanding a better future for ourselves, our athletes, and our communities. We believe that diversity fosters creativity and accelerates innovation. We believe in protecting a planet where all athletes can thrive. And we believe every kid, everywhere, should have access to sport.NikeConverseJordanNIKE, Inc. is a family of brandsAt NIKE, Inc., we believe in pursuing greatness everywhere: on the field, on the court, on the beach and on the street. That’s why our family of brands include Jordan and Converse. We may not look or act the same, but we all share the same drive for greatness. That is the backbone of the Nike family.See The Nike FamilyTour our WorldNike LocationsOregon is home to Nike, but our story goes far beyond Beaverton. From Amsterdam to Shanghai to Buenos Aires, we have locations around the world to inspire athletes* everywhere to reach their potential. \n",
      "\n",
      "*If you have a body, you are an athleteNorth AmericaEMEAAPLAGreater ChinaNorth AmericaEMEAAPLAGreater China40Corporate Offices400+Retail Stores3Countries Served44Corporate Offices600+Retail Stores46Countries Served38Corporate Offices50+Retail Stores25Countries Served27Corporate Offices300+Retail StoresWin As a TeamWe believe in the inspirational power of sport to break down barriers, overcome differences and bring people together. To serve every athlete individually and completely — across the hundreds of countries where we do business — we need teams that truly reflect the diversity of our consumers, and a culture of inclusivity. We aim to foster inclusion and embrace diversity throughout our business, teams and culture to bring us closer to the consumer, empower our employees to realize their full potential and create breakthrough innovations for athletes. Our diverse, high-performing teams around the world share a singular goal: to make all athletes better. At Nike, we embrace different perspectives because we know everyone brings unique experiences and ideas to the team. No matter where we come from, a love of sport unites us. It teaches us to be competitive and to value collaboration.Learn more about Diversity at NikeSearch JobsFIND A STOREBECOME A MEMBERSIGN UP FOR EMAILSEND US FEEDBACKSTUDENT DISCOUNTSGET HELPGET HELPOrder StatusDeliveryReturnsPayment OptionsContact Us On Nike.com InquiriesContact Us On All Other InquiriesABOUT NIKEABOUT NIKENewsCareersInvestorsSustainabilityIndia© 2025 Nike, Inc. All Rights ReservedGuidesNike AdaptNike Air MaxNike FlyleatherNike PegasusNike Zoom FlyNike AirNike FlyEaseNike FreeNike ReactNike ZoomXNike Air Force 1Nike FlyknitNike JoyrideNike VaporflyTerms of SaleTerms of UseNike Privacy Policy\n"
     ]
    }
   ],
   "source": [
    "from langchain_community.document_loaders import WebBaseLoader\n",
    "\n",
    "loader = WebBaseLoader(\"https://jobs.nike.com/?jobSearch=true&jsOffset=0&jsSort=posting_start_date&jsLanguage=en\")\n",
    "page_data = loader.load().pop().page_content\n",
    "print(page_data)"
   ]
  },
  {
   "cell_type": "code",
   "execution_count": 19,
   "id": "c8946d81-9a70-40d2-b2dd-a6a110ca195e",
   "metadata": {},
   "outputs": [
    {
     "data": {
      "text/plain": [
       "str"
      ]
     },
     "execution_count": 19,
     "metadata": {},
     "output_type": "execute_result"
    }
   ],
   "source": [
    "from langchain_core.prompts import PromptTemplate\n",
    "\n",
    "prompt_extract = PromptTemplate.from_template(\n",
    "        \"\"\"\n",
    "        ### SCRAPED TEXT FROM WEBSITE:\n",
    "        {page_data}\n",
    "        ### INSTRUCTION:\n",
    "        The scraped text is from the career's page of a website.\n",
    "        Your job is to extract the job postings and return them in JSON format containing the \n",
    "        following keys: `role`, `experience`, `skills` and `description`.\n",
    "        Only return the valid JSON.\n",
    "        ### VALID JSON (NO PREAMBLE):    \n",
    "        \"\"\"\n",
    ")\n",
    "\n",
    "chain_extract = prompt_extract | llm \n",
    "res = chain_extract.invoke(input={'page_data':page_data})\n",
    "type(res.content)\n"
   ]
  },
  {
   "cell_type": "code",
   "execution_count": 20,
   "id": "928fc2d0-ebc9-4ca0-89e1-8836515aeb06",
   "metadata": {},
   "outputs": [
    {
     "data": {
      "text/plain": [
       "[{'role': 'Administrative Support',\n",
       "  'experience': None,\n",
       "  'skills': None,\n",
       "  'description': None},\n",
       " {'role': 'Advanced Innovation',\n",
       "  'experience': None,\n",
       "  'skills': None,\n",
       "  'description': None},\n",
       " {'role': 'Air Manufacturing Innovation',\n",
       "  'experience': None,\n",
       "  'skills': None,\n",
       "  'description': None},\n",
       " {'role': 'Aviation', 'experience': None, 'skills': None, 'description': None},\n",
       " {'role': 'Communications',\n",
       "  'experience': None,\n",
       "  'skills': None,\n",
       "  'description': None},\n",
       " {'role': 'Customer Service',\n",
       "  'experience': None,\n",
       "  'skills': None,\n",
       "  'description': None},\n",
       " {'role': 'Design', 'experience': None, 'skills': None, 'description': None},\n",
       " {'role': 'Digital', 'experience': None, 'skills': None, 'description': None},\n",
       " {'role': 'Facilities',\n",
       "  'experience': None,\n",
       "  'skills': None,\n",
       "  'description': None},\n",
       " {'role': 'Finance & Accounting',\n",
       "  'experience': None,\n",
       "  'skills': None,\n",
       "  'description': None},\n",
       " {'role': 'Government & Public Affairs',\n",
       "  'experience': None,\n",
       "  'skills': None,\n",
       "  'description': None},\n",
       " {'role': 'Human Resources',\n",
       "  'experience': None,\n",
       "  'skills': None,\n",
       "  'description': None},\n",
       " {'role': 'Insights & Analytics',\n",
       "  'experience': None,\n",
       "  'skills': None,\n",
       "  'description': None},\n",
       " {'role': 'Legal', 'experience': None, 'skills': None, 'description': None},\n",
       " {'role': 'Manufacturing & Engineering',\n",
       "  'experience': None,\n",
       "  'skills': None,\n",
       "  'description': None},\n",
       " {'role': 'Marketing',\n",
       "  'experience': None,\n",
       "  'skills': None,\n",
       "  'description': None},\n",
       " {'role': 'Merchandising',\n",
       "  'experience': None,\n",
       "  'skills': None,\n",
       "  'description': None},\n",
       " {'role': 'Planning', 'experience': None, 'skills': None, 'description': None},\n",
       " {'role': 'Privacy', 'experience': None, 'skills': None, 'description': None},\n",
       " {'role': 'Procurement',\n",
       "  'experience': None,\n",
       "  'skills': None,\n",
       "  'description': None},\n",
       " {'role': 'Product Creation, Development & Management',\n",
       "  'experience': None,\n",
       "  'skills': None,\n",
       "  'description': None},\n",
       " {'role': 'Retail Corporate',\n",
       "  'experience': None,\n",
       "  'skills': None,\n",
       "  'description': None},\n",
       " {'role': 'Retail Stores',\n",
       "  'experience': None,\n",
       "  'skills': None,\n",
       "  'description': None},\n",
       " {'role': 'Sales', 'experience': None, 'skills': None, 'description': None},\n",
       " {'role': 'Social & Community Impact',\n",
       "  'experience': None,\n",
       "  'skills': None,\n",
       "  'description': None},\n",
       " {'role': 'Sports Marketing',\n",
       "  'experience': None,\n",
       "  'skills': None,\n",
       "  'description': None},\n",
       " {'role': 'Strategic Planning',\n",
       "  'experience': None,\n",
       "  'skills': None,\n",
       "  'description': None},\n",
       " {'role': 'Supply Chain, Distribution & Logistics',\n",
       "  'experience': None,\n",
       "  'skills': None,\n",
       "  'description': None},\n",
       " {'role': 'Sustainability',\n",
       "  'experience': None,\n",
       "  'skills': None,\n",
       "  'description': None},\n",
       " {'role': 'Technology',\n",
       "  'experience': None,\n",
       "  'skills': None,\n",
       "  'description': None}]"
      ]
     },
     "execution_count": 20,
     "metadata": {},
     "output_type": "execute_result"
    }
   ],
   "source": [
    "from langchain_core.output_parsers import JsonOutputParser\n",
    "\n",
    "json_parser = JsonOutputParser()\n",
    "json_res = json_parser.parse(res.content)\n",
    "json_res"
   ]
  },
  {
   "cell_type": "code",
   "execution_count": 22,
   "id": "ab0b8f02-05be-4274-867b-51da5e447261",
   "metadata": {},
   "outputs": [
    {
     "data": {
      "text/plain": [
       "list"
      ]
     },
     "execution_count": 22,
     "metadata": {},
     "output_type": "execute_result"
    }
   ],
   "source": [
    "type(json_res)"
   ]
  },
  {
   "cell_type": "code",
   "execution_count": 11,
   "id": "9f362339-a0a5-4729-96ca-0312e02e846d",
   "metadata": {},
   "outputs": [
    {
     "data": {
      "text/html": [
       "<div>\n",
       "<style scoped>\n",
       "    .dataframe tbody tr th:only-of-type {\n",
       "        vertical-align: middle;\n",
       "    }\n",
       "\n",
       "    .dataframe tbody tr th {\n",
       "        vertical-align: top;\n",
       "    }\n",
       "\n",
       "    .dataframe thead th {\n",
       "        text-align: right;\n",
       "    }\n",
       "</style>\n",
       "<table border=\"1\" class=\"dataframe\">\n",
       "  <thead>\n",
       "    <tr style=\"text-align: right;\">\n",
       "      <th></th>\n",
       "      <th>Techstack</th>\n",
       "      <th>Links</th>\n",
       "    </tr>\n",
       "  </thead>\n",
       "  <tbody>\n",
       "    <tr>\n",
       "      <th>0</th>\n",
       "      <td>React, Node.js, MongoDB</td>\n",
       "      <td>https://example.com/react-portfolio</td>\n",
       "    </tr>\n",
       "    <tr>\n",
       "      <th>1</th>\n",
       "      <td>Angular,.NET, SQL Server</td>\n",
       "      <td>https://example.com/angular-portfolio</td>\n",
       "    </tr>\n",
       "    <tr>\n",
       "      <th>2</th>\n",
       "      <td>Vue.js, Ruby on Rails, PostgreSQL</td>\n",
       "      <td>https://example.com/vue-portfolio</td>\n",
       "    </tr>\n",
       "    <tr>\n",
       "      <th>3</th>\n",
       "      <td>Python, Django, MySQL</td>\n",
       "      <td>https://example.com/python-portfolio</td>\n",
       "    </tr>\n",
       "    <tr>\n",
       "      <th>4</th>\n",
       "      <td>Java, Spring Boot, Oracle</td>\n",
       "      <td>https://example.com/java-portfolio</td>\n",
       "    </tr>\n",
       "    <tr>\n",
       "      <th>5</th>\n",
       "      <td>Flutter, Firebase, GraphQL</td>\n",
       "      <td>https://example.com/flutter-portfolio</td>\n",
       "    </tr>\n",
       "    <tr>\n",
       "      <th>6</th>\n",
       "      <td>WordPress, PHP, MySQL</td>\n",
       "      <td>https://example.com/wordpress-portfolio</td>\n",
       "    </tr>\n",
       "    <tr>\n",
       "      <th>7</th>\n",
       "      <td>Magento, PHP, MySQL</td>\n",
       "      <td>https://example.com/magento-portfolio</td>\n",
       "    </tr>\n",
       "    <tr>\n",
       "      <th>8</th>\n",
       "      <td>React Native, Node.js, MongoDB</td>\n",
       "      <td>https://example.com/react-native-portfolio</td>\n",
       "    </tr>\n",
       "    <tr>\n",
       "      <th>9</th>\n",
       "      <td>iOS, Swift, Core Data</td>\n",
       "      <td>https://example.com/ios-portfolio</td>\n",
       "    </tr>\n",
       "    <tr>\n",
       "      <th>10</th>\n",
       "      <td>Android, Java, Room Persistence</td>\n",
       "      <td>https://example.com/android-portfolio</td>\n",
       "    </tr>\n",
       "    <tr>\n",
       "      <th>11</th>\n",
       "      <td>Kotlin, Android, Firebase</td>\n",
       "      <td>https://example.com/kotlin-android-portfolio</td>\n",
       "    </tr>\n",
       "    <tr>\n",
       "      <th>12</th>\n",
       "      <td>Android TV, Kotlin, Android NDK</td>\n",
       "      <td>https://example.com/android-tv-portfolio</td>\n",
       "    </tr>\n",
       "    <tr>\n",
       "      <th>13</th>\n",
       "      <td>iOS, Swift, ARKit</td>\n",
       "      <td>https://example.com/ios-ar-portfolio</td>\n",
       "    </tr>\n",
       "    <tr>\n",
       "      <th>14</th>\n",
       "      <td>Cross-platform, Xamarin, Azure</td>\n",
       "      <td>https://example.com/xamarin-portfolio</td>\n",
       "    </tr>\n",
       "    <tr>\n",
       "      <th>15</th>\n",
       "      <td>Backend, Kotlin, Spring Boot</td>\n",
       "      <td>https://example.com/kotlin-backend-portfolio</td>\n",
       "    </tr>\n",
       "    <tr>\n",
       "      <th>16</th>\n",
       "      <td>Frontend, TypeScript, Angular</td>\n",
       "      <td>https://example.com/typescript-frontend-portfolio</td>\n",
       "    </tr>\n",
       "    <tr>\n",
       "      <th>17</th>\n",
       "      <td>Full-stack, JavaScript, Express.js</td>\n",
       "      <td>https://example.com/full-stack-js-portfolio</td>\n",
       "    </tr>\n",
       "    <tr>\n",
       "      <th>18</th>\n",
       "      <td>Machine Learning, Python, TensorFlow</td>\n",
       "      <td>https://example.com/ml-python-portfolio</td>\n",
       "    </tr>\n",
       "    <tr>\n",
       "      <th>19</th>\n",
       "      <td>DevOps, Jenkins, Docker</td>\n",
       "      <td>https://example.com/devops-portfolio</td>\n",
       "    </tr>\n",
       "  </tbody>\n",
       "</table>\n",
       "</div>"
      ],
      "text/plain": [
       "                               Techstack  \\\n",
       "0                React, Node.js, MongoDB   \n",
       "1               Angular,.NET, SQL Server   \n",
       "2      Vue.js, Ruby on Rails, PostgreSQL   \n",
       "3                  Python, Django, MySQL   \n",
       "4              Java, Spring Boot, Oracle   \n",
       "5             Flutter, Firebase, GraphQL   \n",
       "6                  WordPress, PHP, MySQL   \n",
       "7                    Magento, PHP, MySQL   \n",
       "8         React Native, Node.js, MongoDB   \n",
       "9                  iOS, Swift, Core Data   \n",
       "10       Android, Java, Room Persistence   \n",
       "11             Kotlin, Android, Firebase   \n",
       "12       Android TV, Kotlin, Android NDK   \n",
       "13                     iOS, Swift, ARKit   \n",
       "14        Cross-platform, Xamarin, Azure   \n",
       "15          Backend, Kotlin, Spring Boot   \n",
       "16         Frontend, TypeScript, Angular   \n",
       "17    Full-stack, JavaScript, Express.js   \n",
       "18  Machine Learning, Python, TensorFlow   \n",
       "19               DevOps, Jenkins, Docker   \n",
       "\n",
       "                                                Links  \n",
       "0                 https://example.com/react-portfolio  \n",
       "1               https://example.com/angular-portfolio  \n",
       "2                   https://example.com/vue-portfolio  \n",
       "3                https://example.com/python-portfolio  \n",
       "4                  https://example.com/java-portfolio  \n",
       "5               https://example.com/flutter-portfolio  \n",
       "6             https://example.com/wordpress-portfolio  \n",
       "7               https://example.com/magento-portfolio  \n",
       "8          https://example.com/react-native-portfolio  \n",
       "9                   https://example.com/ios-portfolio  \n",
       "10              https://example.com/android-portfolio  \n",
       "11       https://example.com/kotlin-android-portfolio  \n",
       "12           https://example.com/android-tv-portfolio  \n",
       "13               https://example.com/ios-ar-portfolio  \n",
       "14              https://example.com/xamarin-portfolio  \n",
       "15       https://example.com/kotlin-backend-portfolio  \n",
       "16  https://example.com/typescript-frontend-portfolio  \n",
       "17        https://example.com/full-stack-js-portfolio  \n",
       "18            https://example.com/ml-python-portfolio  \n",
       "19               https://example.com/devops-portfolio  "
      ]
     },
     "execution_count": 11,
     "metadata": {},
     "output_type": "execute_result"
    }
   ],
   "source": [
    "import pandas as pd\n",
    "\n",
    "df = pd.read_csv(\"my_portfolio.csv\")\n",
    "df"
   ]
  },
  {
   "cell_type": "code",
   "execution_count": 12,
   "id": "34358e8b-df6c-44ed-ac70-c82dd5a751b3",
   "metadata": {},
   "outputs": [],
   "source": [
    "import uuid\n",
    "import chromadb\n",
    "\n",
    "client = chromadb.PersistentClient('vectorstore')\n",
    "collection = client.get_or_create_collection(name=\"portfolio\")\n",
    "\n",
    "if not collection.count():\n",
    "    for _, row in df.iterrows():\n",
    "        collection.add(documents=row[\"Techstack\"],\n",
    "                       metadatas={\"links\": row[\"Links\"]},\n",
    "                       ids=[str(uuid.uuid4())])"
   ]
  },
  {
   "cell_type": "code",
   "execution_count": 27,
   "id": "47db0587-dadc-4dfe-8554-b02e27235c4e",
   "metadata": {},
   "outputs": [
    {
     "name": "stdout",
     "output_type": "stream",
     "text": [
      "[[{'links': 'https://example.com/python-portfolio'}, {'links': 'https://example.com/react-portfolio'}]]\n"
     ]
    }
   ],
   "source": [
    "# Define the job variable with relevant data\n",
    "job = {\n",
    "    'skills': 'Python, React, SQL'  # Replace this with the actual skills for the job\n",
    "}\n",
    "\n",
    "# Now run the query\n",
    "links = collection.query(query_texts=job['skills'], n_results=2).get('metadatas', [])\n",
    "print(links)\n"
   ]
  },
  {
   "cell_type": "code",
   "execution_count": 25,
   "id": "192e099c-571c-4b91-a341-a208602505f2",
   "metadata": {},
   "outputs": [
    {
     "data": {
      "text/plain": [
       "[{'role': 'Software Engineer',\n",
       "  'experience': '2+ years',\n",
       "  'skills': 'Python, Django, APIs',\n",
       "  'description': 'Build and maintain web applications.'},\n",
       " {'role': 'Data Scientist',\n",
       "  'experience': '3+ years',\n",
       "  'skills': 'Python, Machine Learning, Statistics',\n",
       "  'description': 'Analyze and interpret complex data to help decision-making.'}]"
      ]
     },
     "execution_count": 25,
     "metadata": {},
     "output_type": "execute_result"
    }
   ],
   "source": [
    "job"
   ]
  },
  {
   "cell_type": "code",
   "execution_count": 17,
   "id": "ba3f0707-d1d8-4f24-b75d-6d47377991b8",
   "metadata": {},
   "outputs": [
    {
     "name": "stdout",
     "output_type": "stream",
     "text": [
      "Subject: Expert Software Solutions for Your Business Needs\n",
      "\n",
      "Dear Hiring Manager,\n",
      "\n",
      "I came across your job description for a Software Engineer and a Data Scientist, and I'm excited to introduce AtliQ, an AI & Software Consulting company that can help you fulfill your requirements. With our expertise in building and maintaining web applications, as well as analyzing and interpreting complex data, we're confident that we can provide the perfect solutions for your business.\n",
      "\n",
      "At AtliQ, we have a proven track record of empowering enterprises with tailored solutions, fostering scalability, process optimization, cost reduction, and heightened overall efficiency. Our team of experts has extensive experience in Python, Django, APIs, Machine Learning, and Statistics, making us an ideal fit for your needs.\n",
      "\n",
      "I'd like to highlight some of our relevant portfolio work, including our Python portfolio (https://example.com/python-portfolio), which showcases our capabilities in building robust and efficient web applications using Python and Django. Our team has successfully delivered numerous projects that involve building and maintaining complex web applications, and we're confident that we can bring similar value to your organization.\n",
      "\n",
      "If you're looking for a reliable partner to help you build and maintain web applications, or analyze and interpret complex data to inform your decision-making, I'd be delighted to schedule a call to discuss how AtliQ can support your business goals.\n",
      "\n",
      "Please feel free to reply to this email or give me a call at your convenience. I look forward to the opportunity to discuss how AtliQ can help you achieve your objectives.\n",
      "\n",
      "Best regards,\n",
      "\n",
      "Mohan\n",
      "Business Development Executive\n",
      "AtliQ\n"
     ]
    }
   ],
   "source": [
    "prompt_email = PromptTemplate.from_template(\n",
    "        \"\"\"\n",
    "        ### JOB DESCRIPTION:\n",
    "        {job_description}\n",
    "        \n",
    "        ### INSTRUCTION:\n",
    "        You are Mohan, a business development executive at AtliQ. AtliQ is an AI & Software Consulting company dedicated to facilitating\n",
    "        the seamless integration of business processes through automated tools. \n",
    "        Over our experience, we have empowered numerous enterprises with tailored solutions, fostering scalability, \n",
    "        process optimization, cost reduction, and heightened overall efficiency. \n",
    "        Your job is to write a cold email to the client regarding the job mentioned above describing the capability of AtliQ \n",
    "        in fulfilling their needs.\n",
    "        Also add the most relevant ones from the following links to showcase Atliq's portfolio: {link_list}\n",
    "        Remember you are Mohan, BDE at AtliQ. \n",
    "        Do not provide a preamble.\n",
    "        ### EMAIL (NO PREAMBLE):\n",
    "        \n",
    "        \"\"\"\n",
    "        )\n",
    "\n",
    "chain_email = prompt_email | llm\n",
    "res = chain_email.invoke({\"job_description\": str(job), \"link_list\": links})\n",
    "print(res.content)"
   ]
  },
  {
   "cell_type": "code",
   "execution_count": null,
   "id": "5ac5052b-539e-4708-b2b0-5036cfaa2e25",
   "metadata": {},
   "outputs": [],
   "source": []
  }
 ],
 "metadata": {
  "kernelspec": {
   "display_name": "Python 3 (ipykernel)",
   "language": "python",
   "name": "python3"
  },
  "language_info": {
   "codemirror_mode": {
    "name": "ipython",
    "version": 3
   },
   "file_extension": ".py",
   "mimetype": "text/x-python",
   "name": "python",
   "nbconvert_exporter": "python",
   "pygments_lexer": "ipython3",
   "version": "3.12.8"
  }
 },
 "nbformat": 4,
 "nbformat_minor": 5
}
